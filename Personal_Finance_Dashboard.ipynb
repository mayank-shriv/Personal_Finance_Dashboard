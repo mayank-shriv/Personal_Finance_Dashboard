{
  "nbformat": 4,
  "nbformat_minor": 0,
  "metadata": {
    "colab": {
      "private_outputs": true,
      "provenance": [],
      "authorship_tag": "ABX9TyPPYTB7XbkCQR7KRlTjBdiM",
      "include_colab_link": true
    },
    "kernelspec": {
      "name": "python3",
      "display_name": "Python 3"
    },
    "language_info": {
      "name": "python"
    }
  },
  "cells": [
    {
      "cell_type": "markdown",
      "metadata": {
        "id": "view-in-github",
        "colab_type": "text"
      },
      "source": [
        "<a href=\"https://colab.research.google.com/github/mayank-shriv/Personal_Finance_Dashboard/blob/main/Personal_Finance_Dashboard.ipynb\" target=\"_parent\"><img src=\"https://colab.research.google.com/assets/colab-badge.svg\" alt=\"Open In Colab\"/></a>"
      ]
    },
    {
      "cell_type": "code",
      "execution_count": null,
      "metadata": {
        "id": "2h_MzW5o_BHV"
      },
      "outputs": [],
      "source": [
        "!pip install plotly pandas\n"
      ]
    },
    {
      "cell_type": "code",
      "source": [
        "import pandas as pd\n",
        "\n",
        "data = {\n",
        "    \"Date\": [\n",
        "        \"2025-01-03\", \"2025-01-05\", \"2025-01-07\", \"2025-01-10\", \"2025-01-12\",\n",
        "        \"2025-01-15\", \"2025-01-18\", \"2025-01-20\", \"2025-01-22\", \"2025-01-25\",\n",
        "        \"2025-01-28\", \"2025-01-30\", \"2025-02-03\", \"2025-02-05\", \"2025-02-09\"\n",
        "    ],\n",
        "    \"Category\": [\n",
        "        \"Food\", \"Transport\", \"Entertainment\", \"Bills\", \"Food\",\n",
        "        \"Shopping\", \"Transport\", \"Bills\", \"Medical\", \"Education\",\n",
        "        \"Savings\", \"Food\", \"Entertainment\", \"Bills\", \"Transport\"\n",
        "    ],\n",
        "    \"Description\": [\n",
        "        \"Groceries from Big Bazaar\", \"Uber to office\", \"Netflix subscription\", \"Electricity Bill\", \"Domino's Pizza\",\n",
        "        \"Clothes from Myntra\", \"Petrol\", \"Water Bill\", \"Pharmacy\", \"Online course fee\",\n",
        "        \"Transferred to Savings A/C\", \"Snacks\", \"Movie Ticket\", \"Mobile Recharge\", \"Bus Pass\"\n",
        "    ],\n",
        "    \"Amount\": [\n",
        "        1200, 350, 499, 2200, 850,\n",
        "        2300, 1100, 300, 450, 1999,\n",
        "        5000, 180, 250, 249, 550\n",
        "    ]\n",
        "}\n",
        "\n",
        "df = pd.DataFrame(data)\n",
        "df.to_csv(\"expenses.csv\", index=False)\n",
        "\n",
        "from google.colab import files\n",
        "files.download(\"expenses.csv\")\n"
      ],
      "metadata": {
        "id": "Nx0YqJcb_x2-"
      },
      "execution_count": null,
      "outputs": []
    },
    {
      "cell_type": "code",
      "metadata": {
        "id": "1037ef5c"
      },
      "source": [
        "import pandas as pd\n",
        "\n",
        "# Replace '/path/to/your/file.csv' with the actual path to your CSV file\n",
        "file_path = '/content/expenses.csv'\n",
        "\n",
        "try:\n",
        "    df = pd.read_csv(file_path)\n",
        "    print(f\"Successfully loaded data from {file_path}\")\n",
        "    # Display the first few rows of the DataFrame\n",
        "    display(df.head())\n",
        "except FileNotFoundError:\n",
        "    print(f\"Error: The file was not found at {file_path}\")\n",
        "except Exception as e:\n",
        "    print(f\"An error occurred while reading the CSV file: {e}\")"
      ],
      "execution_count": null,
      "outputs": []
    },
    {
      "cell_type": "code",
      "source": [
        "df['Date'] = pd.to_datetime(df['Date'], errors='coerce')\n",
        "df['Amount'] = pd.to_numeric(df['Amount'], errors='coerce')\n",
        "df.dropna(subset=['Date', 'Amount'], inplace=True)\n",
        "\n",
        "df['Month'] = df['Date'].dt.to_period('M')\n",
        "df['Category'] = df['Category'].fillna('Others')\n"
      ],
      "metadata": {
        "id": "pD_J95KkAMAn"
      },
      "execution_count": null,
      "outputs": []
    },
    {
      "cell_type": "code",
      "source": [
        "total_spent = df['Amount'].sum()\n",
        "top_categories = df.groupby('Category')['Amount'].sum().sort_values(ascending=False).head(5)\n",
        "\n",
        "print(\"💸 Total Spent:\", total_spent)\n",
        "print(\"📊 Top Categories:\\n\", top_categories)\n"
      ],
      "metadata": {
        "id": "gViA0z_DATZt"
      },
      "execution_count": null,
      "outputs": []
    },
    {
      "cell_type": "code",
      "source": [
        "import plotly.express as px\n",
        "\n",
        "# Expense by Category\n",
        "fig1 = px.pie(df, names='Category', values='Amount', title='Expenses by Category')\n",
        "fig1.show()\n",
        "\n",
        "# Monthly Trend\n",
        "monthly = df.groupby('Month')['Amount'].sum().reset_index()\n",
        "monthly['Month'] = monthly['Month'].astype(str) # Convert Period to string\n",
        "fig2 = px.line(monthly, x='Month', y='Amount', title='Monthly Spending Trend')\n",
        "fig2.show()"
      ],
      "metadata": {
        "id": "NOhQC5PGAZo-"
      },
      "execution_count": null,
      "outputs": []
    },
    {
      "cell_type": "code",
      "source": [
        "df.to_csv(\"Cleaned_Finance_Data.csv\", index=False)\n",
        "files.download(\"Cleaned_Finance_Data.csv\")\n"
      ],
      "metadata": {
        "id": "_Li6Odr3AoqW"
      },
      "execution_count": null,
      "outputs": []
    }
  ]
}